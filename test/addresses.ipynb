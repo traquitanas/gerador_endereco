{
 "cells": [
  {
   "cell_type": "markdown",
   "id": "003bdb10",
   "metadata": {},
   "source": [
    "<br>\n",
    "\n",
    "# Endereços Aleatórios"
   ]
  },
  {
   "cell_type": "markdown",
   "id": "73b04e60",
   "metadata": {},
   "source": [
    "<br>\n",
    "\n",
    "## PyCEP\n",
    "\n",
    "O projeto [PyCEP](https://pypi.org/project/pycep-correios/) possibilita pesquisar CEPs e retornar o lougradouro que representa aquele CEP.\n",
    "\n",
    "Projeto bastante difundido na *internet*, porém ainda não possibilita **pegar faixas de CEP de uma cidade específica**."
   ]
  },
  {
   "cell_type": "code",
   "execution_count": null,
   "id": "f9353ab8",
   "metadata": {},
   "outputs": [],
   "source": [
    "#!pip install pycep-correios"
   ]
  },
  {
   "cell_type": "code",
   "execution_count": null,
   "id": "03c17ad9",
   "metadata": {},
   "outputs": [],
   "source": [
    "from pycep_correios import get_address_from_cep, WebService"
   ]
  },
  {
   "cell_type": "code",
   "execution_count": null,
   "id": "0f44b6b5",
   "metadata": {},
   "outputs": [],
   "source": [
    "cep = '13416-398'\n",
    "\n",
    "get_address_from_cep(cep, webservice=WebService.APICEP)"
   ]
  },
  {
   "cell_type": "code",
   "execution_count": null,
   "id": "be358694",
   "metadata": {},
   "outputs": [],
   "source": [
    "get_address_from_cep(cep, webservice=WebService.VIACEP)"
   ]
  },
  {
   "cell_type": "code",
   "execution_count": null,
   "id": "37ca4b60",
   "metadata": {},
   "outputs": [],
   "source": [
    "get_address_from_cep(cep, webservice=WebService.CORREIOS)"
   ]
  },
  {
   "cell_type": "markdown",
   "id": "42aa760d",
   "metadata": {},
   "source": [
    "<br>\n",
    "\n",
    "## ViaCEP\n",
    "\n",
    "O PyCEP, mencionado acima, utiliza a API do [ViaCEP](https://viacep.com.br/) que apresenta diversas funcionalidades a serem pesquisadas (a dos DDD me interessou bastante!).\n",
    "\n",
    "Há uma ferramenta que achei interessante e \"quase\" me atende integralmente: trata-se da **Pesquisa de CEP**. Nela é possível inserir:\n",
    "1. Estado\n",
    "2. Município\n",
    "3. Algum termo para \"limitar\" a pesquisa, sendo esse o ponto que não queria."
   ]
  },
  {
   "cell_type": "code",
   "execution_count": null,
   "id": "5975f484",
   "metadata": {},
   "outputs": [],
   "source": [
    "'https://viacep.com.br/ws/sp/piracicaba/rua/json/'"
   ]
  },
  {
   "cell_type": "markdown",
   "id": "d808355d",
   "metadata": {
    "pycharm": {
     "name": "#%% md\n"
    }
   },
   "source": [
    "<br>\n",
    "\n",
    "## Correios: faixa de CEP\n",
    "\n",
    "https://buscacepinter.correios.com.br/app/faixa_cep_uf_localidade/index.php"
   ]
  }
 ],
 "metadata": {
  "interpreter": {
   "hash": "d4181b5ba52a8e4a66a816197e9f0b08db8a6f69ae1df649a595f0f30665110e"
  },
  "kernelspec": {
   "display_name": "Python [conda env:pablocarreira-py38] *",
   "language": "python",
   "name": "conda-env-pablocarreira-py38-py"
  },
  "language_info": {
   "codemirror_mode": {
    "name": "ipython",
    "version": 3
   },
   "file_extension": ".py",
   "mimetype": "text/x-python",
   "name": "python",
   "nbconvert_exporter": "python",
   "pygments_lexer": "ipython3",
   "version": "3.8.11"
  }
 },
 "nbformat": 4,
 "nbformat_minor": 5
}
